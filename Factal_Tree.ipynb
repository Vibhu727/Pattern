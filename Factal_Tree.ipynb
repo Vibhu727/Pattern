{
 "cells": [
  {
   "cell_type": "code",
   "execution_count": null,
   "id": "b7525915-ce61-4b12-b16a-91d41637d656",
   "metadata": {},
   "outputs": [],
   "source": [
    "import turtle as t\n",
    "tu=t.Turtle()\n",
    "tu.screen.bgcolor(\"black\")\n",
    "tu.pensize(1)\n",
    "tu.color(\"green\")\n",
    "\n",
    "tu.left(90)\n",
    "tu.backward(100)\n",
    "tu.speed(600)\n",
    "tu.shape('turtle')\n",
    "\n",
    "def tree(i):\n",
    "    if(i<10):\n",
    "        return \n",
    "    else:\n",
    "        tu.forward(i)\n",
    "        tu.color(\"orange\")\n",
    "        \n",
    "        tu.circle(2)\n",
    "        tu.color(\"brown\")\n",
    "        \n",
    "        tu.left(30)\n",
    "        tree(3*i/4)\n",
    "        tu.right(60)\n",
    "        tree(3*i/4)\n",
    "        tu.left(30)\n",
    "        tu.backward(i)\n",
    "        \n",
    "tree(100)\n",
    "t.done()\n",
    "        \n",
    "        "
   ]
  }
 ],
 "metadata": {
  "kernelspec": {
   "display_name": "Python 3",
   "language": "python",
   "name": "python3"
  },
  "language_info": {
   "codemirror_mode": {
    "name": "ipython",
    "version": 3
   },
   "file_extension": ".py",
   "mimetype": "text/x-python",
   "name": "python",
   "nbconvert_exporter": "python",
   "pygments_lexer": "ipython3",
   "version": "3.8.8"
  }
 },
 "nbformat": 4,
 "nbformat_minor": 5
}
